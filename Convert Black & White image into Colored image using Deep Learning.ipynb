{
 "cells": [
  {
   "cell_type": "markdown",
   "metadata": {},
   "source": [
    "## Convert Black & White image into Colored image using Deep Learning:"
   ]
  },
  {
   "cell_type": "code",
   "execution_count": 3,
   "metadata": {},
   "outputs": [],
   "source": [
    "def colorit(name):\n",
    "    for i in range(3):\n",
    "        import numpy as np \n",
    "        import cv2\n",
    "        net = cv2.dnn.readNetFromCaffe('./model/colorit.prototxt','./model/colorit.caffemodel')\n",
    "        pts = np.load('./model/pts.npy')\n",
    "        class8 = net.getLayerId(\"class8_ab\")\n",
    "        conv8 = net.getLayerId(\"conv8_313_rh\")\n",
    "        pts = pts.transpose().reshape(2,313,1,1)\n",
    "        net.getLayer(class8).blobs = [pts.astype(\"float32\")]\n",
    "        net.getLayer(conv8).blobs = [np.full([1,313],2.606,dtype='float32')]\n",
    "        image = cv2.imread('./images/'+str(i)+\".jpeg\")\n",
    "        scaled = image.astype(\"float32\")/255.0\n",
    "        lab = cv2.cvtColor(scaled,cv2.COLOR_BGR2LAB)\n",
    "        resized = cv2.resize(lab,(224,224))\n",
    "        L = cv2.split(resized)[0]\n",
    "        L -= 50\n",
    "        net.setInput(cv2.dnn.blobFromImage(L))\n",
    "        ab = net.forward()[0, :, :, :].transpose((1,2,0))\n",
    "        ab = cv2.resize(ab, (image.shape[1],image.shape[0]))\n",
    "        L = cv2.split(lab)[0]\n",
    "        colorized = np.concatenate((L[:,:,np.newaxis], ab), axis=2)\n",
    "        colorized = cv2.cvtColor(colorized,cv2.COLOR_LAB2BGR)\n",
    "        colorized = np.clip(colorized,0,1)\n",
    "        colorized = (255 * colorized).astype(\"uint8\")\n",
    "        cv2.imshow(\"Original\",image)\n",
    "        cv2.imshow(\"Generated\",colorized)\n",
    "        cv2.waitKey(0)\n",
    "    print(colored('Thank-you', 'green', attrs=['bold']))"
   ]
  },
  {
   "cell_type": "code",
   "execution_count": 4,
   "metadata": {},
   "outputs": [
    {
     "name": "stdout",
     "output_type": "stream",
     "text": [
      "Enter start : start\n",
      "\u001b[1m\u001b[32mThank-you\u001b[0m\n"
     ]
    }
   ],
   "source": [
    "from termcolor import colored\n",
    "name = input(colored(\"Enter start : \",\"green\", attrs=['bold']))\n",
    "if name == \"exit\":\n",
    "    quit()\n",
    "else:\n",
    "    colorit(name)"
   ]
  },
  {
   "cell_type": "code",
   "execution_count": null,
   "metadata": {},
   "outputs": [],
   "source": []
  }
 ],
 "metadata": {
  "kernelspec": {
   "display_name": "Python 3",
   "language": "python",
   "name": "python3"
  },
  "language_info": {
   "codemirror_mode": {
    "name": "ipython",
    "version": 3
   },
   "file_extension": ".py",
   "mimetype": "text/x-python",
   "name": "python",
   "nbconvert_exporter": "python",
   "pygments_lexer": "ipython3",
   "version": "3.8.5"
  }
 },
 "nbformat": 4,
 "nbformat_minor": 4
}
